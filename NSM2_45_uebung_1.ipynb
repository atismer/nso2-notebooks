{
 "cells": [
  {
   "cell_type": "markdown",
   "metadata": {},
   "source": [
    "__Import__ \n",
    "*   Importieren Sie _fipy_ und benennen Sie das Paket `fp`\n",
    "*   Fügen Sie zusätzlich\n",
    "```python\n",
    "import matplotlib\n",
    "%matplotlib notebook\n",
    "import matplotlib.pyplot as plt\n",
    "```\n",
    "    hinzu\n",
    "\n",
    "<!--\n",
    "import fipy as fp\n",
    "import matplotlib\n",
    "%matplotlib notebook\n",
    "import matplotlib.pyplot as plt\n",
    "-->"
   ]
  },
  {
   "cell_type": "code",
   "execution_count": 1,
   "metadata": {},
   "outputs": [],
   "source": [
    "import fipy as fp\n",
    "import matplotlib\n",
    "#%matplotlib notebook\n",
    "%matplotlib ipympl\n",
    "import matplotlib.pyplot as plt"
   ]
  },
  {
   "cell_type": "markdown",
   "metadata": {},
   "source": [
    "__Diskretisierung__\n",
    "\n",
    "*    Definieren Sie die Variable `nx` (Anzahl der Zellen) und setzen Sie diesen Wert auf `4`\n",
    "*    Das Gebiet hat die Länge $1$\n",
    "*    Berechnen Sie die Länge einer Zelle `dx`\n",
    "*    Erstellen Sie ein eindimensionales Netz in _fipy_ mit den Werten `nx` und `dx`\n",
    "\n",
    "<!--\n",
    "nx = 4\n",
    "dx = 1./nx\n",
    "mesh = fp.Grid1D(nx=nx, dx=dx)\n",
    "-->"
   ]
  },
  {
   "cell_type": "code",
   "execution_count": 2,
   "metadata": {},
   "outputs": [],
   "source": [
    "nx = 4\n",
    "dx = 1./nx\n",
    "mesh = fp.Grid1D(nx=nx, dx=dx)"
   ]
  },
  {
   "cell_type": "markdown",
   "metadata": {},
   "source": [
    "*    Geben Sie die Koordinaten des Zentrums der Zellen sowie der Flächen aus\n",
    "\n",
    "<!--\n",
    "print(mesh.cellCenters())\n",
    "print(mesh.faceCenters())\n",
    "-->"
   ]
  },
  {
   "cell_type": "code",
   "execution_count": 3,
   "metadata": {},
   "outputs": [
    {
     "name": "stdout",
     "output_type": "stream",
     "text": [
      "[[0.125 0.375 0.625 0.875]]\n",
      "[[0.   0.25 0.5  0.75 1.  ]]\n"
     ]
    }
   ],
   "source": [
    "print(mesh.cellCenters())\n",
    "print(mesh.faceCenters())"
   ]
  },
  {
   "cell_type": "markdown",
   "metadata": {},
   "source": [
    "*    Definieren Sie die Geschwindigkeit `U`, die Diffusionskonstante `Gamma` und die Dichte `rho` zu `0.1`, `0.1` und `1.0`\n",
    "*    Schreiben Sie eine Funktion `calcPe(U, dx, Gamma)` zur Berechnung der Peclet-Zahl\n",
    "     *     Verwenden Sie das Attribut `dx` auf der Klasse `Grid1D`\n",
    "*    Geben Sie das Ergebnis aus\n",
    "\n",
    "<!--\n",
    "U = 0.1\n",
    "Gamma = 0.1\n",
    "rho = 1.0\n",
    "def calcPe(U, dx, Gamma):\n",
    "    return 1. * U * dx / Gamma\n",
    "print(\"Pe = %f\" % (calcPe(U,mesh.dx, Gamma)) )\n",
    "-->"
   ]
  },
  {
   "cell_type": "code",
   "execution_count": 4,
   "metadata": {},
   "outputs": [
    {
     "name": "stdout",
     "output_type": "stream",
     "text": [
      "Pe = 0.250000\n"
     ]
    }
   ],
   "source": [
    "U = 0.1\n",
    "Gamma = 0.1\n",
    "rho = 1.0\n",
    "def calcPe(U, dx, Gamma):\n",
    "    return 1. * U * dx / Gamma\n",
    "print(\"Pe = %f\" % (calcPe(U,mesh.dx, Gamma)) )"
   ]
  },
  {
   "cell_type": "markdown",
   "metadata": {},
   "source": [
    "*    Erstellen Sie eine Zellenvariable `phi` in _fipy_\n",
    "*    Setzen Sie auf der linken bzw. rechten Seite die Dirichlet Randbedingung `1.0` und `0.0`\n",
    "*    Diskretisieren Sie $\\nabla \\cdot (\\rho \\phi u) - \\nabla \\cdot (\\Gamma \\nabla \\phi) = 0$ als `eq`\n",
    "    *    Verwenden Sie eine zentrale Differenz für den Konvektionsterm\n",
    "*    Lösen Sie das Problem\n",
    "\n",
    "<!--\n",
    "phi = fp.CellVariable(name=\"phi\", mesh=mesh, value=0.)\n",
    "phi.constrain( 1.0, mesh.facesLeft() )\n",
    "phi.constrain( 0.0, mesh.facesRight() )\n",
    "eq = rho * fp.CentralDifferenceConvectionTerm(coeff=(U,)) - fp.DiffusionTerm(coeff=Gamma) == 0.\n",
    "eq.solve( var=phi )\n",
    "-->"
   ]
  },
  {
   "cell_type": "code",
   "execution_count": 5,
   "metadata": {},
   "outputs": [],
   "source": [
    "phi = fp.CellVariable(name=\"phi\", mesh=mesh, value=0.)\n",
    "phi.constrain( 1.0, mesh.facesLeft() )\n",
    "phi.constrain( 0.0, mesh.facesRight() )\n",
    "eq = rho * fp.CentralDifferenceConvectionTerm(coeff=(U,)) - fp.DiffusionTerm(coeff=Gamma) == 0.\n",
    "eq.solve( var=phi )"
   ]
  },
  {
   "cell_type": "markdown",
   "metadata": {},
   "source": [
    "*    Geben Sie die Lösung auf den Zell- und Flächenmittelpunkten aus\n",
    "\n",
    "<!--\n",
    "print(phi.value)\n",
    "print(phi.arithmeticFaceValue())\n",
    "-->"
   ]
  },
  {
   "cell_type": "code",
   "execution_count": 6,
   "metadata": {},
   "outputs": [
    {
     "name": "stdout",
     "output_type": "stream",
     "text": [
      "[0.92292481 0.73574221 0.49507887 0.18565458]\n",
      "[1.         0.82933351 0.61541054 0.34036673 0.        ]\n"
     ]
    }
   ],
   "source": [
    "print(phi.value)\n",
    "print(phi.arithmeticFaceValue())"
   ]
  },
  {
   "cell_type": "markdown",
   "metadata": {},
   "source": [
    "*    Lösen Sie die Gleichung erneut, damit Sie die Systemmatrix und den Vektor der rechten Seite ausgeben können\n",
    "\n",
    "<!--\n",
    "eq.cacheMatrix()\n",
    "eq.cacheRHSvector()\n",
    "eq.solve(var=phi)\n",
    "print( eq.matrix )\n",
    "print( eq.RHSvector )\n",
    "-->"
   ]
  },
  {
   "cell_type": "code",
   "execution_count": 7,
   "metadata": {
    "editable": true,
    "slideshow": {
     "slide_type": ""
    },
    "tags": []
   },
   "outputs": [
    {
     "name": "stdout",
     "output_type": "stream",
     "text": [
      " 1.200000  -0.350000      ---        ---    \n",
      "-0.450000   0.800000  -0.350000      ---    \n",
      "    ---    -0.450000   0.800000  -0.350000  \n",
      "    ---        ---    -0.450000   1.200000  \n",
      "[0.85 0.   0.   0.  ]\n"
     ]
    }
   ],
   "source": [
    "eq.cacheMatrix()\n",
    "eq.cacheRHSvector()\n",
    "eq.solve(var=phi)\n",
    "print( eq.matrix )\n",
    "print( eq.RHSvector )"
   ]
  },
  {
   "cell_type": "markdown",
   "metadata": {},
   "source": [
    "__Visualisierung__\n",
    "*    Erzeugen Sie mit _matplotlib_ einen Graphen \n",
    "```python \n",
    "    plt.figure(1, figsize=(6,6) )\n",
    "    plt.clf()\n",
    "    plt.grid()\n",
    "```\n",
    "     * Das erste Argument von `figure()` ist die Nummer des Graphen und das zweite Argument die Größe\n",
    "     * `clf()` löscht alle Objekte aus dem Graphen (wichtig falls Sie die Zellen erneut ausführen)\n",
    "     * `grid()` zeigt ein Koordinatengitter\n",
    "\n",
    "<!--\n",
    "plt.figure(1, figsize=(6,4) )\n",
    "plt.clf()\n",
    "plt.grid()\n",
    "-->"
   ]
  },
  {
   "cell_type": "code",
   "execution_count": 8,
   "metadata": {},
   "outputs": [
    {
     "data": {
      "application/vnd.jupyter.widget-view+json": {
       "model_id": "306b1369aab04c73a7641c48e9ef16bb",
       "version_major": 2,
       "version_minor": 0
      },
      "image/png": "[encoded data removed]",
      "text/html": [
       "\n",
       "            <div style=\"display: inline-block;\">\n",
       "                <div class=\"jupyter-widgets widget-label\" style=\"text-align: center;\">\n",
       "                    Figure\n",
       "                </div>\n",
       "                <img src='data:image/png;base64,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' width=600.0/>\n",
       "            </div>\n",
       "        "
      ],
      "text/plain": [
       "Canvas(toolbar=Toolbar(toolitems=[('Home', 'Reset original view', 'home', 'home'), ('Back', 'Back to previous …"
      ]
     },
     "metadata": {},
     "output_type": "display_data"
    }
   ],
   "source": [
    "plt.figure(1, figsize=(6,4) )\n",
    "plt.clf()\n",
    "plt.grid()"
   ]
  },
  {
   "cell_type": "markdown",
   "metadata": {
    "editable": true,
    "slideshow": {
     "slide_type": ""
    },
    "tags": []
   },
   "source": [
    "*    Führen Sie die folgenden Befehle aus:\n",
    "```python\n",
    "    plt.plot( mesh.faceCenters()[0,:], phi.arithmeticFaceValue()[:], 'ko' )    \n",
    "    plt.plot( mesh.cellCenters()[0], phi.value, 'ks-' )\n",
    "    plt.plot(\n",
    "        [mesh.cellCenters()[0,0], mesh.faceCenters()[0,0]], \n",
    "        [phi.value[0], phi.arithmeticFaceValue()[0]], \n",
    "        'k-'\n",
    "    )\n",
    "    plt.plot( \n",
    "        [mesh.cellCenters()[0,-1], mesh.faceCenters()[0,-1]],\n",
    "        [phi.value[-1], phi.arithmeticFaceValue()[-1]],\n",
    "        'k-'\n",
    "    )\n",
    "```\n",
    "*    Versuchen Sie [hier](https://matplotlib.org/3.2.1/api/_as_gen/matplotlib.pyplot.plot.html) den `plot`-Befehl zu verstehen und dokumentieren Sie für sich die Argumente und deren Funktion\n",
    "\n",
    "<!--\n",
    "plt.plot( mesh.faceCenters()[0,:], phi.arithmeticFaceValue()[:], 'ko' )    \n",
    "plt.plot( mesh.cellCenters()[0], phi.value, 'ks-' )\n",
    "plt.plot(\n",
    "   [mesh.cellCenters()[0,0], mesh.faceCenters()[0,0]], \n",
    "   [phi.value[0], phi.arithmeticFaceValue()[0]], \n",
    "   'k-'\n",
    ")\n",
    "plt.plot( \n",
    "   [mesh.cellCenters()[0,-1], mesh.faceCenters()[0,-1]],\n",
    "   [phi.value[-1], phi.arithmeticFaceValue()[-1]],\n",
    "   'k-'\n",
    ")\n",
    "-->"
   ]
  },
  {
   "cell_type": "code",
   "execution_count": 9,
   "metadata": {},
   "outputs": [
    {
     "data": {
      "text/plain": [
       "[<matplotlib.lines.Line2D at 0x7f0593dbf710>]"
      ]
     },
     "execution_count": 9,
     "metadata": {},
     "output_type": "execute_result"
    }
   ],
   "source": [
    "plt.plot( mesh.faceCenters()[0,:], phi.arithmeticFaceValue()[:], 'ko' )    \n",
    "plt.plot( mesh.cellCenters()[0], phi.value, 'ks-' )\n",
    "plt.plot(\n",
    "   [mesh.cellCenters()[0,0], mesh.faceCenters()[0,0]], \n",
    "   [phi.value[0], phi.arithmeticFaceValue()[0]], \n",
    "   'k-'\n",
    ")\n",
    "plt.plot( \n",
    "   [mesh.cellCenters()[0,-1], mesh.faceCenters()[0,-1]],\n",
    "   [phi.value[-1], phi.arithmeticFaceValue()[-1]],\n",
    "   'k-'\n",
    ")"
   ]
  },
  {
   "cell_type": "markdown",
   "metadata": {},
   "source": [
    "*    Schreiben Sie eine Funktion `addToPlot()` mit der Graphennummer, dem Rechennetz, der Variablen sowie einer Farbvariablen als Eingang\n",
    "*    Kopieren Sie den Quelltext aus der Zelle darüber in die Funktion und passen Sie diesen ggf. noch an\n",
    "\n",
    "<!--\n",
    "def addToPlot(num, mesh, var, col):\n",
    "    plt.figure(num)\n",
    "    plt.plot( mesh.faceCenters()[0,:], var.arithmeticFaceValue()[:], col+'o' )    \n",
    "    plt.plot( mesh.cellCenters()[0], var.value, col+'s-' )\n",
    "    plt.plot(\n",
    "       [mesh.cellCenters()[0,0], mesh.faceCenters()[0,0]], \n",
    "       [var.value[0], var.arithmeticFaceValue()[0]], \n",
    "       col+'-'\n",
    "    )\n",
    "    plt.plot( \n",
    "       [mesh.cellCenters()[0,-1], mesh.faceCenters()[0,-1]],\n",
    "       [var.value[-1], var.arithmeticFaceValue()[-1]],\n",
    "       col+'-'\n",
    "    )\n",
    "-->"
   ]
  },
  {
   "cell_type": "code",
   "execution_count": 10,
   "metadata": {},
   "outputs": [],
   "source": [
    "def addToPlot(num, mesh, var, col):\n",
    "    plt.figure(num)\n",
    "    plt.plot( mesh.faceCenters()[0,:], var.arithmeticFaceValue()[:], col+'o' )    \n",
    "    plt.plot( mesh.cellCenters()[0], var.value, col+'s-' )\n",
    "    plt.plot(\n",
    "       [mesh.cellCenters()[0,0], mesh.faceCenters()[0,0]], \n",
    "       [var.value[0], var.arithmeticFaceValue()[0]], \n",
    "       col+'-'\n",
    "    )\n",
    "    plt.plot( \n",
    "       [mesh.cellCenters()[0,-1], mesh.faceCenters()[0,-1]],\n",
    "       [var.value[-1], var.arithmeticFaceValue()[-1]],\n",
    "       col+'-'\n",
    "    )"
   ]
  },
  {
   "cell_type": "markdown",
   "metadata": {},
   "source": [
    "__Beobachtungen__\n",
    "*    Diskretisieren Sie die Gleichung von oben als `eq2` erneut mit einer neuen Geschwindigkeit `W=2.0`\n",
    "*    Stellen Sie sicher, dass _fipy_ die Matrix und den Vektor der rechten Seite behält\n",
    "*    Berechnen Sie erneut die Peclet-Zahl mit der Funktion von oben\n",
    "*    Lösen Sie die Gleichung\n",
    "\n",
    "<!--\n",
    "W = 2.0\n",
    "print(\"Pe = %f\" % (calcPe(W, mesh.dx, Gamma)) )\n",
    "\n",
    "eq2 = rho * fp.CentralDifferenceConvectionTerm(coeff=(W,)) - fp.DiffusionTerm(coeff=Gamma) == 0.\n",
    "eq2.cacheMatrix()\n",
    "eq2.cacheRHSvector()\n",
    "eq2.solve( var=phi )\n",
    "-->"
   ]
  },
  {
   "cell_type": "code",
   "execution_count": 11,
   "metadata": {},
   "outputs": [
    {
     "name": "stdout",
     "output_type": "stream",
     "text": [
      "Pe = 5.000000\n"
     ]
    }
   ],
   "source": [
    "W = 2.0\n",
    "print(\"Pe = %f\" % (calcPe(W, mesh.dx, Gamma)) )\n",
    "\n",
    "eq2 = rho * fp.CentralDifferenceConvectionTerm(coeff=(W,)) - fp.DiffusionTerm(coeff=Gamma) == 0.\n",
    "eq2.cacheMatrix()\n",
    "eq2.cacheRHSvector()\n",
    "eq2.solve( var=phi )"
   ]
  },
  {
   "cell_type": "markdown",
   "metadata": {},
   "source": [
    "*    Fügen Sie das Ergebnis durch den Aufruf von `addToPlot()` mit den geeigneten Argumenten zum Graphen oben hinzu\n",
    "*    Zeichnen sie die neue Kurve rot ein\n",
    "\n",
    "<!--\n",
    "addToPlot(1, mesh, phi, 'r')\n",
    "-->"
   ]
  },
  {
   "cell_type": "code",
   "execution_count": 12,
   "metadata": {},
   "outputs": [],
   "source": [
    "addToPlot(1, mesh, phi, 'r')"
   ]
  },
  {
   "cell_type": "markdown",
   "metadata": {},
   "source": [
    "*    Welchen Unterschied haben die beiden Kurven?\n",
    "*    Sollten Sie die Diskretisierung verändern?\n",
    "*    Vergleichen Sie beide Systemmatrizen indem Sie diese ausgben. Was beobachten Sie?\n",
    "\n",
    "<!--\n",
    "print( eq.matrix )\n",
    "print( eq2.matrix )\n",
    "-->"
   ]
  },
  {
   "cell_type": "code",
   "execution_count": 13,
   "metadata": {},
   "outputs": [
    {
     "name": "stdout",
     "output_type": "stream",
     "text": [
      " 1.200000  -0.350000      ---        ---    \n",
      "-0.450000   0.800000  -0.350000      ---    \n",
      "    ---    -0.450000   0.800000  -0.350000  \n",
      "    ---        ---    -0.450000   1.200000  \n",
      " 1.200000   0.600000      ---        ---    \n",
      "-1.400000   0.800000   0.600000      ---    \n",
      "    ---    -1.400000   0.800000   0.600000  \n",
      "    ---        ---    -1.400000   1.200000  \n"
     ]
    }
   ],
   "source": [
    "print( eq.matrix )\n",
    "print( eq2.matrix )"
   ]
  },
  {
   "cell_type": "markdown",
   "metadata": {},
   "source": [
    "*    Suchen Sie [hier](https://www.ctcms.nist.gov/fipy/documentation/numerical/scheme.html) und [hier](https://www.ctcms.nist.gov/fipy/fipy/generated/fipy.terms.html#) nach einer geeigneten Diskretisierung für den Konvektionsterm\n",
    "*    Diskretisieren Sie als `eq3` erneut und lösen Sie das Problem\n",
    "*    Fügen eine neue grüne Kurve hinzu\n",
    "\n",
    "<!--\n",
    "eq3 = rho * fp.UpwindConvectionTerm(coeff=(W,)) - fp.DiffusionTerm(coeff=Gamma) == 0.\n",
    "eq3.cacheMatrix()\n",
    "eq3.cacheRHSvector()\n",
    "eq3.solve( var=phi )\n",
    "addToPlot(1, mesh, phi, 'g')\n",
    "-->"
   ]
  },
  {
   "cell_type": "code",
   "execution_count": 14,
   "metadata": {},
   "outputs": [],
   "source": [
    "eq3 = rho * fp.UpwindConvectionTerm(coeff=(W,)) - fp.DiffusionTerm(coeff=Gamma) == 0.\n",
    "eq3.cacheMatrix()\n",
    "eq3.cacheRHSvector()\n",
    "eq3.solve( var=phi )\n",
    "addToPlot(1, mesh, phi, 'g')"
   ]
  },
  {
   "cell_type": "markdown",
   "metadata": {},
   "source": [
    "*    Vergleichen Sie alle Systemmatrizen\n",
    "\n",
    "<!--\n",
    "print( eq.matrix )\n",
    "print( eq2.matrix )\n",
    "print( eq3.matrix )\n",
    "-->"
   ]
  },
  {
   "cell_type": "code",
   "execution_count": 15,
   "metadata": {},
   "outputs": [
    {
     "name": "stdout",
     "output_type": "stream",
     "text": [
      " 1.200000  -0.350000      ---        ---    \n",
      "-0.450000   0.800000  -0.350000      ---    \n",
      "    ---    -0.450000   0.800000  -0.350000  \n",
      "    ---        ---    -0.450000   1.200000  \n",
      " 1.200000   0.600000      ---        ---    \n",
      "-1.400000   0.800000   0.600000      ---    \n",
      "    ---    -1.400000   0.800000   0.600000  \n",
      "    ---        ---    -1.400000   1.200000  \n",
      " 3.200000  -0.400000      ---        ---    \n",
      "-2.400000   2.800000  -0.400000      ---    \n",
      "    ---    -2.400000   2.800000  -0.400000  \n",
      "    ---        ---    -2.400000   3.200000  \n"
     ]
    }
   ],
   "source": [
    "print( eq.matrix )\n",
    "print( eq2.matrix )\n",
    "print( eq3.matrix )"
   ]
  },
  {
   "cell_type": "code",
   "execution_count": null,
   "metadata": {},
   "outputs": [],
   "source": []
  }
 ],
 "metadata": {
  "kernelspec": {
   "display_name": "Python 3 (ipykernel)",
   "language": "python",
   "name": "python3"
  },
  "language_info": {
   "codemirror_mode": {
    "name": "ipython",
    "version": 3
   },
   "file_extension": ".py",
   "mimetype": "text/x-python",
   "name": "python",
   "nbconvert_exporter": "python",
   "pygments_lexer": "ipython3",
   "version": "3.12.6"
  }
 },
 "nbformat": 4,
 "nbformat_minor": 4
}
