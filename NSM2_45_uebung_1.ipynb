{
 "cells": [
  {
   "cell_type": "markdown",
   "metadata": {},
   "source": [
    "__Import__ \n",
    "*   Importieren Sie _fipy_ und benennen Sie das Paket `fp`\n",
    "*   Fügen Sie zusätzlich\n",
    "```python\n",
    "import matplotlib\n",
    "%matplotlib ipympl\n",
    "import matplotlib.pyplot as plt\n",
    "```\n",
    "    hinzu\n",
    "\n",
    "<!--\n",
    "import fipy as fp\n",
    "import matplotlib\n",
    "%matplotlib notebook\n",
    "import matplotlib.pyplot as plt\n",
    "-->"
   ]
  },
  {
   "cell_type": "code",
   "execution_count": null,
   "metadata": {},
   "outputs": [],
   "source": []
  },
  {
   "cell_type": "markdown",
   "metadata": {},
   "source": [
    "__Diskretisierung__\n",
    "\n",
    "*    Definieren Sie die Variable `nx` (Anzahl der Zellen) und setzen Sie diesen Wert auf `4`\n",
    "*    Das Gebiet hat die Länge $1$\n",
    "*    Berechnen Sie die Länge einer Zelle `dx`\n",
    "*    Erstellen Sie ein eindimensionales Netz in _fipy_ mit den Werten `nx` und `dx`\n",
    "\n",
    "<!--\n",
    "nx = 4\n",
    "dx = 1./nx\n",
    "mesh = fp.Grid1D(nx=nx, dx=dx)\n",
    "-->"
   ]
  },
  {
   "cell_type": "code",
   "execution_count": null,
   "metadata": {},
   "outputs": [],
   "source": []
  },
  {
   "cell_type": "markdown",
   "metadata": {},
   "source": [
    "*    Geben Sie die Koordinaten des Zentrums der Zellen sowie der Flächen aus\n",
    "\n",
    "<!--\n",
    "print(mesh.cellCenters())\n",
    "print(mesh.faceCenters())\n",
    "-->"
   ]
  },
  {
   "cell_type": "code",
   "execution_count": null,
   "metadata": {},
   "outputs": [],
   "source": []
  },
  {
   "cell_type": "markdown",
   "metadata": {},
   "source": [
    "*    Definieren Sie die Geschwindigkeit `U`, die Diffusionskonstante `Gamma` und die Dichte `rho` zu `0.1`, `0.1` und `1.0`\n",
    "*    Schreiben Sie eine Funktion `calcPe(U, dx, Gamma)` zur Berechnung der Peclet-Zahl\n",
    "     *     Verwenden Sie das Attribut `dx` auf der Klasse `Grid1D`\n",
    "*    Geben Sie das Ergebnis aus\n",
    "\n",
    "<!--\n",
    "U = 0.1\n",
    "Gamma = 0.1\n",
    "rho = 1.0\n",
    "def calcPe(U, dx, Gamma):\n",
    "    return 1. * U * dx / Gamma\n",
    "print(\"Pe = %f\" % (calcPe(U,mesh.dx, Gamma)) )\n",
    "-->"
   ]
  },
  {
   "cell_type": "code",
   "execution_count": null,
   "metadata": {},
   "outputs": [],
   "source": []
  },
  {
   "cell_type": "markdown",
   "metadata": {},
   "source": [
    "*    Erstellen Sie eine Zellenvariable `phi` in _fipy_\n",
    "*    Setzen Sie auf der linken bzw. rechten Seite die Dirichlet Randbedingung `1.0` und `0.0`\n",
    "*    Diskretisieren Sie $\\nabla \\cdot (\\rho \\phi u) - \\nabla \\cdot (\\Gamma \\nabla \\phi) = 0$ als `eq`\n",
    "    *    Verwenden Sie eine zentrale Differenz für den Konvektionsterm\n",
    "*    Lösen Sie das Problem\n",
    "\n",
    "<!--\n",
    "phi = fp.CellVariable(name=\"phi\", mesh=mesh, value=0.)\n",
    "phi.constrain( 1.0, mesh.facesLeft() )\n",
    "phi.constrain( 0.0, mesh.facesRight() )\n",
    "eq = rho * fp.CentralDifferenceConvectionTerm(coeff=(U,)) - fp.DiffusionTerm(coeff=Gamma) == 0.\n",
    "eq.solve( var=phi )\n",
    "-->"
   ]
  },
  {
   "cell_type": "code",
   "execution_count": null,
   "metadata": {},
   "outputs": [],
   "source": []
  },
  {
   "cell_type": "markdown",
   "metadata": {},
   "source": [
    "*    Geben Sie die Lösung auf den Zell- und Flächenmittelpunkten aus\n",
    "\n",
    "<!--\n",
    "print(phi.value)\n",
    "print(phi.arithmeticFaceValue())\n",
    "-->"
   ]
  },
  {
   "cell_type": "code",
   "execution_count": null,
   "metadata": {},
   "outputs": [],
   "source": []
  },
  {
   "cell_type": "markdown",
   "metadata": {},
   "source": [
    "*    Lösen Sie die Gleichung erneut, damit Sie die Systemmatrix und den Vektor der rechten Seite ausgeben können\n",
    "\n",
    "<!--\n",
    "eq.cacheMatrix()\n",
    "eq.cacheRHSvector()\n",
    "eq.solve(var=phi)\n",
    "print( eq.matrix )\n",
    "print( eq.RHSvector )\n",
    "-->"
   ]
  },
  {
   "cell_type": "code",
   "execution_count": null,
   "metadata": {
    "slideshow": {
     "slide_type": ""
    },
    "tags": []
   },
   "outputs": [],
   "source": []
  },
  {
   "cell_type": "markdown",
   "metadata": {},
   "source": [
    "__Visualisierung__\n",
    "*    Erzeugen Sie mit _matplotlib_ einen Graphen \n",
    "```python \n",
    "    plt.figure(1, figsize=(6,6) )\n",
    "    plt.clf()\n",
    "    plt.grid()\n",
    "```\n",
    "     * Das erste Argument von `figure()` ist die Nummer des Graphen und das zweite Argument die Größe\n",
    "     * `clf()` löscht alle Objekte aus dem Graphen (wichtig falls Sie die Zellen erneut ausführen)\n",
    "     * `grid()` zeigt ein Koordinatengitter\n",
    "\n",
    "<!--\n",
    "plt.figure(1, figsize=(6,4) )\n",
    "plt.clf()\n",
    "plt.grid()\n",
    "-->"
   ]
  },
  {
   "cell_type": "code",
   "execution_count": null,
   "metadata": {},
   "outputs": [],
   "source": []
  },
  {
   "cell_type": "markdown",
   "metadata": {
    "slideshow": {
     "slide_type": ""
    },
    "tags": []
   },
   "source": [
    "*    Führen Sie die folgenden Befehle aus:\n",
    "```python\n",
    "    plt.plot( mesh.faceCenters()[0,:], phi.arithmeticFaceValue()[:], 'ko' )    \n",
    "    plt.plot( mesh.cellCenters()[0], phi.value, 'ks-' )\n",
    "    plt.plot(\n",
    "        [mesh.cellCenters()[0,0], mesh.faceCenters()[0,0]], \n",
    "        [phi.value[0], phi.arithmeticFaceValue()[0]], \n",
    "        'k-'\n",
    "    )\n",
    "    plt.plot( \n",
    "        [mesh.cellCenters()[0,-1], mesh.faceCenters()[0,-1]],\n",
    "        [phi.value[-1], phi.arithmeticFaceValue()[-1]],\n",
    "        'k-'\n",
    "    )\n",
    "```\n",
    "*    Versuchen Sie [hier](https://matplotlib.org/3.2.1/api/_as_gen/matplotlib.pyplot.plot.html) den `plot`-Befehl zu verstehen und dokumentieren Sie für sich die Argumente und deren Funktion\n",
    "\n",
    "<!--\n",
    "plt.plot( mesh.faceCenters()[0,:], phi.arithmeticFaceValue()[:], 'ko' )    \n",
    "plt.plot( mesh.cellCenters()[0], phi.value, 'ks-' )\n",
    "plt.plot(\n",
    "   [mesh.cellCenters()[0,0], mesh.faceCenters()[0,0]], \n",
    "   [phi.value[0], phi.arithmeticFaceValue()[0]], \n",
    "   'k-'\n",
    ")\n",
    "plt.plot( \n",
    "   [mesh.cellCenters()[0,-1], mesh.faceCenters()[0,-1]],\n",
    "   [phi.value[-1], phi.arithmeticFaceValue()[-1]],\n",
    "   'k-'\n",
    ")\n",
    "-->"
   ]
  },
  {
   "cell_type": "code",
   "execution_count": null,
   "metadata": {},
   "outputs": [],
   "source": []
  },
  {
   "cell_type": "markdown",
   "metadata": {},
   "source": [
    "*    Schreiben Sie eine Funktion `addToPlot()` mit der Graphennummer, dem Rechennetz, der Variablen sowie einer Farbvariablen als Eingang\n",
    "*    Kopieren Sie den Quelltext aus der Zelle darüber in die Funktion und passen Sie diesen ggf. noch an\n",
    "\n",
    "<!--\n",
    "def addToPlot(num, mesh, var, col):\n",
    "    plt.figure(num)\n",
    "    plt.plot( mesh.faceCenters()[0,:], var.arithmeticFaceValue()[:], col+'o' )    \n",
    "    plt.plot( mesh.cellCenters()[0], var.value, col+'s-' )\n",
    "    plt.plot(\n",
    "       [mesh.cellCenters()[0,0], mesh.faceCenters()[0,0]], \n",
    "       [var.value[0], var.arithmeticFaceValue()[0]], \n",
    "       col+'-'\n",
    "    )\n",
    "    plt.plot( \n",
    "       [mesh.cellCenters()[0,-1], mesh.faceCenters()[0,-1]],\n",
    "       [var.value[-1], var.arithmeticFaceValue()[-1]],\n",
    "       col+'-'\n",
    "    )\n",
    "-->"
   ]
  },
  {
   "cell_type": "code",
   "execution_count": null,
   "metadata": {},
   "outputs": [],
   "source": []
  },
  {
   "cell_type": "markdown",
   "metadata": {},
   "source": [
    "__Beobachtungen__\n",
    "*    Diskretisieren Sie die Gleichung von oben als `eq2` erneut mit einer neuen Geschwindigkeit `W=2.0`\n",
    "*    Stellen Sie sicher, dass _fipy_ die Matrix und den Vektor der rechten Seite behält\n",
    "*    Berechnen Sie erneut die Peclet-Zahl mit der Funktion von oben\n",
    "*    Lösen Sie die Gleichung\n",
    "\n",
    "<!--\n",
    "W = 2.0\n",
    "print(\"Pe = %f\" % (calcPe(W, mesh.dx, Gamma)) )\n",
    "\n",
    "eq2 = rho * fp.CentralDifferenceConvectionTerm(coeff=(W,)) - fp.DiffusionTerm(coeff=Gamma) == 0.\n",
    "eq2.cacheMatrix()\n",
    "eq2.cacheRHSvector()\n",
    "eq2.solve( var=phi )\n",
    "-->"
   ]
  },
  {
   "cell_type": "code",
   "execution_count": null,
   "metadata": {},
   "outputs": [],
   "source": []
  },
  {
   "cell_type": "markdown",
   "metadata": {},
   "source": [
    "*    Fügen Sie das Ergebnis durch den Aufruf von `addToPlot()` mit den geeigneten Argumenten zum Graphen oben hinzu\n",
    "*    Zeichnen sie die neue Kurve rot ein\n",
    "\n",
    "<!--\n",
    "addToPlot(1, mesh, phi, 'r')\n",
    "-->"
   ]
  },
  {
   "cell_type": "code",
   "execution_count": null,
   "metadata": {},
   "outputs": [],
   "source": []
  },
  {
   "cell_type": "markdown",
   "metadata": {},
   "source": [
    "*    Welchen Unterschied haben die beiden Kurven?\n",
    "*    Sollten Sie die Diskretisierung verändern?\n",
    "*    Vergleichen Sie beide Systemmatrizen indem Sie diese ausgben. Was beobachten Sie?\n",
    "\n",
    "<!--\n",
    "print( eq.matrix )\n",
    "print( eq2.matrix )\n",
    "-->"
   ]
  },
  {
   "cell_type": "code",
   "execution_count": null,
   "metadata": {},
   "outputs": [],
   "source": []
  },
  {
   "cell_type": "markdown",
   "metadata": {},
   "source": [
    "*    Suchen Sie [hier](https://www.ctcms.nist.gov/fipy/documentation/numerical/scheme.html) und [hier](https://www.ctcms.nist.gov/fipy/fipy/generated/fipy.terms.html#) nach einer geeigneten Diskretisierung für den Konvektionsterm\n",
    "*    Diskretisieren Sie als `eq3` erneut und lösen Sie das Problem\n",
    "*    Fügen eine neue grüne Kurve hinzu\n",
    "\n",
    "<!--\n",
    "eq3 = rho * fp.UpwindConvectionTerm(coeff=(W,)) - fp.DiffusionTerm(coeff=Gamma) == 0.\n",
    "eq3.cacheMatrix()\n",
    "eq3.cacheRHSvector()\n",
    "eq3.solve( var=phi )\n",
    "addToPlot(1, mesh, phi, 'g')\n",
    "-->"
   ]
  },
  {
   "cell_type": "code",
   "execution_count": null,
   "metadata": {},
   "outputs": [],
   "source": []
  },
  {
   "cell_type": "markdown",
   "metadata": {},
   "source": [
    "*    Vergleichen Sie alle Systemmatrizen\n",
    "\n",
    "<!--\n",
    "print( eq.matrix )\n",
    "print( eq2.matrix )\n",
    "print( eq3.matrix )\n",
    "-->"
   ]
  }
 ],
 "metadata": {
  "kernelspec": {
   "display_name": "Python 3",
   "language": "python",
   "name": "python3"
  },
  "language_info": {
   "codemirror_mode": {
    "name": "ipython",
    "version": 3
   },
   "file_extension": ".py",
   "mimetype": "text/x-python",
   "name": "python",
   "nbconvert_exporter": "python",
   "pygments_lexer": "ipython3",
   "version": "3.7.3"
  }
 },
 "nbformat": 4,
 "nbformat_minor": 4
}
