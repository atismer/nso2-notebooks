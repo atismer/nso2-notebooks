{
 "cells": [
  {
   "cell_type": "markdown",
   "metadata": {},
   "source": [
    "[FiPy](https://www.ctcms.nist.gov/fipy/)"
   ]
  },
  {
   "cell_type": "code",
   "execution_count": 1,
   "metadata": {},
   "outputs": [],
   "source": [
    "import fipy as fp"
   ]
  },
  {
   "cell_type": "code",
   "execution_count": 2,
   "metadata": {
    "editable": true,
    "slideshow": {
     "slide_type": ""
    },
    "tags": []
   },
   "outputs": [],
   "source": [
    "nx = 5\n",
    "dx = 1./nx\n",
    "mesh = fp.Grid1D(nx=nx, dx=dx)"
   ]
  },
  {
   "cell_type": "code",
   "execution_count": 3,
   "metadata": {},
   "outputs": [],
   "source": [
    "phi = fp.CellVariable(name=\"phi\", mesh=mesh, value=0.)\n",
    "phi.constrain( 1.0, mesh.facesLeft() )\n",
    "phi.faceGrad.constrain( 0.0, mesh.facesRight() )"
   ]
  },
  {
   "cell_type": "markdown",
   "metadata": {},
   "source": [
    "\\begin{equation}\n",
    "\\int (\\rho \\Phi \\underline{v}) \\cdot d\\underline{S} - \\int (\\Gamma \\nabla \\Phi) \\cdot d\\underline{S} = 0\n",
    "\\end{equation}"
   ]
  },
  {
   "cell_type": "code",
   "execution_count": 4,
   "metadata": {},
   "outputs": [],
   "source": [
    "rho = 1.0\n",
    "v = 0.1\n",
    "Gamma = 0.1\n",
    "eq = fp.CentralDifferenceConvectionTerm( (rho*v,) ) - fp.DiffusionTerm(Gamma) == 0"
   ]
  },
  {
   "cell_type": "code",
   "execution_count": 5,
   "metadata": {},
   "outputs": [],
   "source": [
    "eq.cacheMatrix()\n",
    "eq.cacheRHSvector()\n",
    "\n",
    "eq.solve(var=phi)"
   ]
  },
  {
   "cell_type": "code",
   "execution_count": 6,
   "metadata": {},
   "outputs": [
    {
     "data": {
      "text/plain": [
       "array([1., 1., 1., 1., 1.])"
      ]
     },
     "execution_count": 6,
     "metadata": {},
     "output_type": "execute_result"
    }
   ],
   "source": [
    "phi.value"
   ]
  },
  {
   "cell_type": "code",
   "execution_count": 7,
   "metadata": {},
   "outputs": [
    {
     "name": "stdout",
     "output_type": "stream",
     "text": [
      " 1.500000  -0.450000      ---        ---        ---    \n",
      "-0.550000   1.000000  -0.450000      ---        ---    \n",
      "    ---    -0.550000   1.000000  -0.450000      ---    \n",
      "    ---        ---    -0.550000   1.000000  -0.450000  \n",
      "    ---        ---        ---    -0.550000   0.550000  \n"
     ]
    }
   ],
   "source": [
    "print(eq.matrix)"
   ]
  },
  {
   "cell_type": "code",
   "execution_count": 8,
   "metadata": {},
   "outputs": [
    {
     "name": "stdout",
     "output_type": "stream",
     "text": [
      "[1.05 0.   0.   0.   0.  ]\n"
     ]
    }
   ],
   "source": [
    "print(eq.RHSvector)"
   ]
  },
  {
   "cell_type": "code",
   "execution_count": null,
   "metadata": {},
   "outputs": [],
   "source": []
  }
 ],
 "metadata": {
  "kernelspec": {
   "display_name": "Python 3 (ipykernel)",
   "language": "python",
   "name": "python3"
  },
  "language_info": {
   "codemirror_mode": {
    "name": "ipython",
    "version": 3
   },
   "file_extension": ".py",
   "mimetype": "text/x-python",
   "name": "python",
   "nbconvert_exporter": "python",
   "pygments_lexer": "ipython3",
   "version": "3.12.6"
  }
 },
 "nbformat": 4,
 "nbformat_minor": 4
}
