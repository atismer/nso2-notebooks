{
 "cells": [
  {
   "cell_type": "markdown",
   "metadata": {},
   "source": [
    "__Import__\n",
    "\n",
    "*   Importieren Sie _fipy_ und benennen Sie das Paket `fp`\n",
    "*   Fügen Sie zusätzlich\n",
    "```python\n",
    "import matplotlib\n",
    "%matplotlib notebook\n",
    "import matplotlib.pyplot as plt\n",
    "```\n",
    "    hinzu\n",
    "*   Importieren Sie noch weitere Pakete (z.B. Numpy, ...) nachträglich, falls Sie diese benötigen.\n",
    "\n",
    "<!--\n",
    "import fipy as fp\n",
    "import matplotlib\n",
    "%matplotlib notebook\n",
    "import matplotlib.pyplot as plt\n",
    "import numpy as np\n",
    "-->"
   ]
  },
  {
   "cell_type": "code",
   "execution_count": null,
   "metadata": {},
   "outputs": [],
   "source": []
  },
  {
   "cell_type": "markdown",
   "metadata": {},
   "source": [
    "*   Importieren Sie die vorbereiteten Klassen `SolveStrategyAbstract` und  `LinearEqSys` des _Strategy_ _Pattern_:\n",
    "```python\n",
    "from NSM2_65_AbstractSolver import *\n",
    "```\n",
    "*    Zusätzliche Info: Eine kurze Erklärung des Designmusters finden Sie [hier](https://medium.com/@sheikhsajid/design-patterns-in-python-part-1-the-strategy-pattern-54b24897233e)\n",
    "\n",
    "<!--\n",
    "from NSM2_65_AbstractSolver import *\n",
    "-->"
   ]
  },
  {
   "cell_type": "code",
   "execution_count": null,
   "metadata": {},
   "outputs": [],
   "source": []
  },
  {
   "cell_type": "markdown",
   "metadata": {},
   "source": [
    "__Verfahren des steilsten Abstiegs__\n",
    "\n",
    "*    Erstellen Sie eine von `SolveStrategyAbstract` abgeleitete Klasse `steepestDescent` und implementieren Sie die abstrakte Methode mit dem Funktionsrumpf\n",
    "```python\n",
    "def do(self, A, b, phi):\n",
    "```\n",
    "* Programmieren Sie das Verfahren des steilsten Abstiegs\n",
    "\n",
    "Hinweise:\n",
    "*    `self` ist das Dummy-Argument und ist das Objekt selbst\n",
    "*    `A`, `b` und `phi` ist die Matrix, die rechte Seite und die Startlösung jeweils als [`numpy.ndarray`](https://numpy.org/doc/stable/reference/generated/numpy.ndarray.html)\n",
    "*    Iterieren Sie z.B. über `500` Iterationen und verwenden Sie die Methode `terminate` von `SolveStrategyAbstract` um auf Konvergenz zu prüfen\n",
    "*    Verwenden Sie die Methoden [`matmul`](https://numpy.org/doc/stable/reference/generated/numpy.matmul.html) und [`dot`](https://numpy.org/doc/stable/reference/generated/numpy.dot.html?highlight=dot#numpy.dot) aus `numpy` \n",
    "\n",
    "<!--\n",
    "class steepestDescent(SolveStrategyAbstract):\n",
    "    def do(self, A, b, phi):\n",
    "      for i in range(500):\n",
    "          r = b-np.matmul(A,phi)\n",
    "          alpha = np.dot(r,r) / (np.dot(r, np.matmul(A,r)))\n",
    "          phi_o = phi\n",
    "          phi = phi + alpha * r\n",
    "          if self.terminate(A,b,phi):\n",
    "            return phi         \n",
    "-->"
   ]
  },
  {
   "cell_type": "code",
   "execution_count": null,
   "metadata": {},
   "outputs": [],
   "source": []
  },
  {
   "cell_type": "markdown",
   "metadata": {},
   "source": [
    "__Testproblem__\n",
    "\n",
    "*   Definieren Sie das Beispiel aus der Vorlesung\n",
    "$\n",
    "\\underbrace{\n",
    "\\left[\n",
    "\\begin{matrix} \n",
    "1 & 1 \\\\ \n",
    "1 & 2 \\\\ \n",
    "\\end{matrix} \n",
    "\\right]\n",
    "}_{A}\n",
    "\\underbrace{\n",
    "\\left[\n",
    "\\begin{matrix} \n",
    "\\phi_1  \\\\ \n",
    "\\phi_2 \\\\ \n",
    "\\end{matrix} \n",
    "\\right]\n",
    "}_{\\phi}\n",
    "=\n",
    "\\underbrace{\n",
    "\\left[ \n",
    "\\begin{matrix} \n",
    "3 \\\\ \n",
    "4 \\\\ \n",
    "\\end{matrix} \n",
    "\\right] \n",
    "}_{b}\n",
    "$\n",
    "*   Deklarieren Sie die Matrix $A$ und die rechte Seite $b$ als `numpy.ndarray`\n",
    "\n",
    "<!--\n",
    "A = np.array([ [1.,1.],[1.,2.] ])\n",
    "b = np.array([3.,4])\n",
    "-->"
   ]
  },
  {
   "cell_type": "code",
   "execution_count": null,
   "metadata": {},
   "outputs": [],
   "source": []
  },
  {
   "cell_type": "markdown",
   "metadata": {},
   "source": [
    "*   Erstellen Sie ein Objekt `SDSolver` von `LinearEqSys` durch den Aufruf des Konstruktors\n",
    "*   Verwenden Sie als Strategie Ihre Implementierung des steilsten Abstiegs\n",
    "*   Lösen Sie das System aus der Vorlesung\n",
    "*   Geben Sie das Residuum `SDSolver.strategy().res_` aus\n",
    "\n",
    "<!--\n",
    "SDSolver = LinearEqSys(A, b, steepestDescent())\n",
    "SDSolver.solve()\n",
    "print( SDSolver.strategy().res_ )\n",
    "-->"
   ]
  },
  {
   "cell_type": "code",
   "execution_count": null,
   "metadata": {},
   "outputs": [],
   "source": []
  },
  {
   "cell_type": "markdown",
   "metadata": {},
   "source": [
    "__Konvektions-Diffusions-Gleichung__\n",
    "\n",
    "*    Erstellen Sie ein Netz in `fipy` mit `gmsh`. Kopieren Sie dazu den folgenden Befehl:\n",
    "```python\n",
    "    geo='''\n",
    "    Point(1) = {0.0, 0.0, 0.0, 1.0};\n",
    "    Point(2) = {1.0, 0.0, 0.0, 1.0};\n",
    "    Point(3) = {1.0, 1.0, 0.0, 1.0};\n",
    "    Point(4) = {0.0, 1.0, 0.0, 1.0};\n",
    "    Line(1) = {1, 2};\n",
    "    Line(2) = {2, 3};\n",
    "    Line(3) = {3, 4};\n",
    "    Line(4) = {4, 1};\n",
    "    Line Loop(1) = {1, 2, 3, 4};\n",
    "    Plane Surface(1) = {1};\n",
    "    Physical Line(\"low\") = {3,4};\n",
    "    Physical Line(\"up\") = {1,2};\n",
    "    Physical Surface(\"vol\") = {1};\n",
    "    Transfinite Line {1} = 10 Using Progression 1.0;\n",
    "    Transfinite Line {2} = 10 Using Progression 1.0;\n",
    "    Transfinite Line {3} = 10 Using Progression 1.0;\n",
    "    Transfinite Line {4} = 10 Using Progression 1.0;\n",
    "    '''\n",
    "mesh = fp.meshes.Gmsh2D(geo, background=None, communicator=fp.serialComm)\n",
    "```\n",
    "\n",
    "*    Sie können sich das Ergebnis durch\n",
    "```python\n",
    "    tris = np.zeros((mesh.numberOfCells,3), int)\n",
    "    for i in range( mesh.numberOfCells ):\n",
    "        tris[i] = [mesh._cellVertexIDs[0][i], mesh._cellVertexIDs[1][i], mesh._cellVertexIDs[2][i] ]\n",
    "    plt.close(1)\n",
    "    plt.figure(1,figsize=(5,5))\n",
    "    x = np.array(mesh.vertexCoords[0])\n",
    "    y = np.array(mesh.vertexCoords[1])\n",
    "    triang = matplotlib.tri.Triangulation(x, y, tris)\n",
    "    plt.triplot(triang, 'k-')\n",
    "```\n",
    "    ansehen\n",
    "\n",
    "<!--\n",
    "geo='''\n",
    "Point(1) = {0.0, 0.0, 0.0, 1.0};\n",
    "Point(2) = {1.0, 0.0, 0.0, 1.0};\n",
    "Point(3) = {1.0, 1.0, 0.0, 1.0};\n",
    "Point(4) = {0.0, 1.0, 0.0, 1.0};\n",
    "Line(1) = {1, 2};\n",
    "Line(2) = {2, 3};\n",
    "Line(3) = {3, 4};\n",
    "Line(4) = {4, 1};\n",
    "Line Loop(1) = {1, 2, 3, 4};\n",
    "Plane Surface(1) = {1};\n",
    "Physical Line(\"low\") = {3,4};\n",
    "Physical Line(\"up\") = {1,2};\n",
    "Physical Surface(\"vol\") = {1};\n",
    "Transfinite Line {1} = 10 Using Progression 1.0;\n",
    "Transfinite Line {2} = 10 Using Progression 1.0;\n",
    "Transfinite Line {3} = 10 Using Progression 1.0;\n",
    "Transfinite Line {4} = 10 Using Progression 1.0;\n",
    "'''\n",
    "mesh = fp.meshes.Gmsh2D(geo, background=None, communicator=fp.serialComm)\n",
    "tris = np.zeros((mesh.numberOfCells,3), int)\n",
    "for i in range( mesh.numberOfCells ):\n",
    "  tris[i] = [mesh._cellVertexIDs[0][i], mesh._cellVertexIDs[1][i], mesh._cellVertexIDs[2][i] ]\n",
    "plt.close(1)\n",
    "plt.figure(1,figsize=(5,5))\n",
    "x = np.array(mesh.vertexCoords[0])\n",
    "y = np.array(mesh.vertexCoords[1])\n",
    "triang = matplotlib.tri.Triangulation(x, y, tris)\n",
    "plt.triplot(triang, 'k-')\n",
    "-->"
   ]
  },
  {
   "cell_type": "code",
   "execution_count": null,
   "metadata": {},
   "outputs": [],
   "source": []
  },
  {
   "cell_type": "markdown",
   "metadata": {},
   "source": [
    "*    Definieren Sie die Zellenvariable `phi` in `fipy`\n",
    "*    Setzen Sie Dirichlet-Randbedingungen jeweils auf die Flächen `low` und `up`\n",
    "     \n",
    "     Hinweis: Mit der Methode `mesh.physicalFaces['up']` erhalten Sie eine Liste für die Fläche `up`, die Sie direkt in der Methode `constrain` verwenden können. Analog funktioniert dies auch für `low`.\n",
    "\n",
    "*    Lösen Sie die Gleichung `eq` $\\nabla \\cdot \\left( \\underbrace{1.0}_{\\rho} \\phi \\underbrace{\\left[ \\begin{matrix} 1.0 \\\\ 1.0 \\\\ \\end{matrix} \\right]}_{U} \\right) - \\nabla \\cdot \\left( \\underbrace{0.1}_{\\Gamma} \\nabla \\phi \\right) = 0$ mit einer zentralen Differenz.\n",
    "*    Fügen Sie `cacheMatrix()` und `cacheRHSvector()` hinzu, damit Sie die Matrix und die rechte Seite später wieder verwenden können.\n",
    "\n",
    "<!--\n",
    "phi = fp.CellVariable(name=\"phi\", mesh=mesh, value=0.)\n",
    "phi.constrain(1.0, mesh.physicalFaces['low'])\n",
    "phi.constrain(0.0, mesh.physicalFaces['up'])\n",
    "\n",
    "Gamma = 0.10\n",
    "rho = 1.0\n",
    "U = (1.0,1.0,)\n",
    "eq = rho * fp.CentralDifferenceConvectionTerm(U) - fp.DiffusionTerm(coeff=Gamma) == 0\n",
    "\n",
    "eq.cacheMatrix()\n",
    "eq.cacheRHSvector()\n",
    "eq.solve( var=phi )\n",
    "-->"
   ]
  },
  {
   "cell_type": "code",
   "execution_count": null,
   "metadata": {},
   "outputs": [],
   "source": []
  },
  {
   "cell_type": "markdown",
   "metadata": {},
   "source": [
    "*    Das Ergebnis können Sie durch \n",
    "```python\n",
    "    plt.close(2)\n",
    "    plt.figure(2,figsize=(6,5))\n",
    "    plt.tripcolor(triang, np.array(phi.value), vmin=0, vmax=1.0,cmap=plt.cm.jet)\n",
    "    plt.colorbar()\n",
    "```\n",
    "     anschauen.\n",
    "     \n",
    "<!--\n",
    "plt.close(2)\n",
    "plt.figure(2,figsize=(6,5))\n",
    "plt.tripcolor(triang, np.array(phi.value), vmin=0, vmax=1.0,cmap=plt.cm.jet)\n",
    "plt.colorbar()\n",
    "-->"
   ]
  },
  {
   "cell_type": "code",
   "execution_count": null,
   "metadata": {},
   "outputs": [],
   "source": []
  },
  {
   "cell_type": "markdown",
   "metadata": {},
   "source": [
    "*   Definieren Sie die Matrix `AA` und die rechte Seite `bb` mit dem System des Konvektions-Diffusions-Problems.\n",
    "\n",
    "<!--\n",
    "AA = eq.matrix.numpyArray\n",
    "bb = eq.RHSvector\n",
    "-->"
   ]
  },
  {
   "cell_type": "code",
   "execution_count": null,
   "metadata": {},
   "outputs": [],
   "source": []
  },
  {
   "cell_type": "markdown",
   "metadata": {},
   "source": [
    "*    Erstellen Sie das Objekt `SDSolver` erneut durch einen Konstruktoraufruf.\n",
    "*    Erstellen Sie sich zwei neue Objekte `CGSolver` und `JacobiSolver` der Klasse `LinearEqSys`.\n",
    "*    Die jeweiligen Strategien sind `cg` und `jacobi` und sind bereits in `AbstractSolver` implementiert.\n",
    "*    Verwenden Sie die neue Matrix `AA` und die neue rechte Seite `bb`\n",
    "\n",
    "<!--\n",
    "SDSolver = LinearEqSys(AA, bb, steepestDescent())\n",
    "CGSolver = LinearEqSys(AA, bb, cg())\n",
    "JacobiSolver = LinearEqSys(AA, bb, jacobi())\n",
    "-->"
   ]
  },
  {
   "cell_type": "code",
   "execution_count": null,
   "metadata": {},
   "outputs": [],
   "source": []
  },
  {
   "cell_type": "markdown",
   "metadata": {},
   "source": [
    "*   Lösen Sie das Problem mit den drei unterschiedlichen Lösern.\n",
    "\n",
    "<!---\n",
    "SDSolver.solve()\n",
    "CGSolver.solve()\n",
    "JacobiSolver.solve()\n",
    "-->"
   ]
  },
  {
   "cell_type": "code",
   "execution_count": null,
   "metadata": {},
   "outputs": [],
   "source": []
  },
  {
   "cell_type": "markdown",
   "metadata": {},
   "source": [
    "*  Visualisieren Sie die Residuen durch:\n",
    "\n",
    "```python\n",
    "    plt.close(3)\n",
    "    plt.figure(3)\n",
    "    plt.plot(SDSolver.strategy().res_, 'k-')\n",
    "    plt.plot(CGSolver.strategy().res_, 'r-')\n",
    "    plt.plot(JacobiSolver.strategy().res_, 'g-')\n",
    "    plt.yscale('log')\n",
    "```\n",
    "<!--\n",
    "    plt.close(3)\n",
    "    plt.figure(3)\n",
    "    plt.plot(SDSolver.strategy().res_, 'k-')\n",
    "    plt.plot(CGSolver.strategy().res_, 'r-')\n",
    "    plt.plot(JacobiSolver.strategy().res_, 'g-')\n",
    "    plt.yscale('log')\n",
    "-->"
   ]
  },
  {
   "cell_type": "code",
   "execution_count": null,
   "metadata": {},
   "outputs": [],
   "source": []
  },
  {
   "cell_type": "markdown",
   "metadata": {},
   "source": [
    "__Beobachtungen__\n",
    "\n",
    "*   Was beobachten Sie?\n",
    "*   Woran liegt das Verhalten?\n",
    "*   Welche Eigenschaften des Problems müssen Sie ändern?"
   ]
  }
 ],
 "metadata": {
  "kernelspec": {
   "display_name": "Python 3",
   "language": "python",
   "name": "python3"
  },
  "language_info": {
   "codemirror_mode": {
    "name": "ipython",
    "version": 3
   },
   "file_extension": ".py",
   "mimetype": "text/x-python",
   "name": "python",
   "nbconvert_exporter": "python",
   "pygments_lexer": "ipython3",
   "version": "3.7.3"
  }
 },
 "nbformat": 4,
 "nbformat_minor": 4
}
