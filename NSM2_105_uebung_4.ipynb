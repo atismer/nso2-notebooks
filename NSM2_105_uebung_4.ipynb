{
 "cells": [
  {
   "cell_type": "markdown",
   "metadata": {},
   "source": [
    "__Import__\n",
    "\n",
    "*   Importieren Sie _pygmo_ und benennen Sie das Paket `pg`\n",
    "*   Fügen Sie zusätzlich\n",
    "```python\n",
    "import matplotlib\n",
    "%matplotlib notebook\n",
    "import matplotlib.pyplot as plt\n",
    "```\n",
    "    hinzu\n",
    "*   Importieren Sie noch weitere Pakete (z.B. Numpy, ...) nachträglich, falls Sie diese benötigen.\n",
    "\n",
    "<!--\n",
    "import pygmo as pg\n",
    "import matplotlib\n",
    "%matplotlib notebook\n",
    "import matplotlib.pyplot as plt\n",
    "import numpy as np\n",
    "-->"
   ]
  },
  {
   "cell_type": "code",
   "execution_count": null,
   "metadata": {},
   "outputs": [],
   "source": []
  },
  {
   "cell_type": "markdown",
   "metadata": {},
   "source": [
    "__Definition des Problems und der Population__"
   ]
  },
  {
   "cell_type": "markdown",
   "metadata": {},
   "source": [
    "* Erstellen Sie ein 75-dimensionales [Rosenbrock-Problem](https://esa.github.io/pygmo2/problems.html#pygmo.rosenbrock) indem Sie das Objekt dem Konstruktor von `pg.problem` übergeben\n",
    "* Speichern Sie das Problem in der Variablen `prob_i`\n",
    "\n",
    "<!--\n",
    "nDim = 75\n",
    "prob_i = pg.problem(pg.rosenbrock(dim = 75))\n",
    "-->"
   ]
  },
  {
   "cell_type": "code",
   "execution_count": null,
   "metadata": {},
   "outputs": [],
   "source": []
  },
  {
   "cell_type": "markdown",
   "metadata": {},
   "source": [
    "* Erstellen Sie eine Population aus `10` Individuen über [diesen](https://esa.github.io/pygmo2/population.html#pygmo.population) Konstruktor\n",
    "* Speichern Sie die Population in der Variablen `pop_i` ab\n",
    "\n",
    "<!--\n",
    "nPop = 10\n",
    "pop_i = pg.population(prob_i, size = nPop)\n",
    "-->"
   ]
  },
  {
   "cell_type": "code",
   "execution_count": null,
   "metadata": {},
   "outputs": [],
   "source": []
  },
  {
   "cell_type": "markdown",
   "metadata": {},
   "source": [
    "__Serielle Optimierung__"
   ]
  },
  {
   "cell_type": "markdown",
   "metadata": {},
   "source": [
    "* Schreiben Sie die Funktion `serOpt` mit `nIter`, `pop` und `algo` als Eingangsargumente\n",
    "* Der Rückgabewert soll ein `float`-Vektor mit der Dimension `nIter x 2` sein\n",
    "* Optimieren Sie die Population durch die [evolve](https://esa.github.io/pygmo2/algorithm.html#pygmo.algorithm.evolve)-Funtion über `nIter` Iterationen\n",
    "* Speichern Sie das Minimum aus dem `property` [champion_f](https://esa.github.io/pygmo2/population.html#pygmo.population.champion_f) im Rückgabevektor für jede Iteration ab\n",
    "\n",
    "<!--\n",
    "def serOpt(nIter, pop, algo):\n",
    "    genFit = np.zeros( (nIter,2), float )\n",
    "    for i in range(nIter):\n",
    "      pop = algo.evolve( pop )\n",
    "      minF = np.min(pop.champion_f)\n",
    "      genFit[i, 0] = i\n",
    "      genFit[i, 1] = minF    \n",
    "    return genFit\n",
    "-->"
   ]
  },
  {
   "cell_type": "code",
   "execution_count": null,
   "metadata": {},
   "outputs": [],
   "source": []
  },
  {
   "cell_type": "markdown",
   "metadata": {},
   "source": [
    "* Erstellen Sie eine Abbildung durch `plt.figure(1)`\n",
    "* Führen Sie 6 Optimierungsläufe durch den Aufruf der Funktion `serOpt` durch\n",
    "* Verwenden Sie die Population `pop_i` als Startpopulation\n",
    "* Verwenden Sie den [`de`](https://esa.github.io/pygmo2/algorithms.html#pygmo.de)-Algorithmus zur Optimierung\n",
    "* Optimieren Sie insgesamt für `nGenIter=1500` Iterationen und verwenden Sie `nGen=10` Generationen je Iterationen\n",
    "* Speichern Sie für jeden Optimierungslauf das Endergebnis im Vektor `gMinSerVec`\n",
    "* Plotten Sie jeden Optimierungslauf in die Abbildung durch den Befehl [`semilogy`](https://matplotlib.org/stable/api/_as_gen/matplotlib.pyplot.semilogy.html?highlight=semilogy#matplotlib.pyplot.semilogy) aus `plt`; verwenden Sie dazu den Rückgabevektor der Funktion `serOpt`\n",
    "\n",
    "<!--\n",
    "plt.figure(1)\n",
    "nGen = 10\n",
    "nGenIter = 1500\n",
    "gMinSerVec = np.zeros(6, float)\n",
    "for j in range(np.size(gMinSerVec)):\n",
    "  genFit = serOpt(nGenIter, pop_i, pg.algorithm(pg.de(gen=nGen)))\n",
    "  gMinSerVec[j] = genFit[-1,1]\n",
    "  print( \"Run %5d / minF = %8.4e\" % (j, gMinSerVec[j]) )\n",
    "  plt.semilogy( genFit[:,0], genFit[:,1], 'k-' )\n",
    "-->"
   ]
  },
  {
   "cell_type": "code",
   "execution_count": null,
   "metadata": {},
   "outputs": [],
   "source": []
  },
  {
   "cell_type": "markdown",
   "metadata": {},
   "source": [
    "__Parallele Optimierung__"
   ]
  },
  {
   "cell_type": "markdown",
   "metadata": {},
   "source": [
    "* Erstellen Sie eine zweite Abbildung durch `plt.figure(2)`\n",
    "* Berechnen Sie den Mittelwert aller seriellen Optimierungen (Vektor `gMinSerVec`) und speichern Sie das Ergebnis in `meanFit`\n",
    "* Plotten Sie die seriellen Optimierungen in das Schaubild durch:\n",
    "    ```python\n",
    "    plt.loglog(np.ones(np.size(gMinSerVec), int), gMinSerVec/meanFit, 'k.')\n",
    "    ```\n",
    "* Beschränken Sie die Abszisse durch\n",
    "    ```python\n",
    "    plt.xlim([0.9,6])\n",
    "    ```\n",
    "    \n",
    "<!--\n",
    "plt.figure(2)\n",
    "plt.clf()\n",
    "meanFit = np.mean(gMinSerVec)\n",
    "plt.loglog(np.ones(np.size(gMinSerVec), int), gMinSerVec/meanFit, 'k.')\n",
    "plt.xlim([0.9,6])\n",
    "-->"
   ]
  },
  {
   "cell_type": "code",
   "execution_count": null,
   "metadata": {},
   "outputs": [],
   "source": []
  },
  {
   "cell_type": "markdown",
   "metadata": {},
   "source": [
    "* Kopieren Sie die Funktion `parOpt`:\n",
    "    ```python\n",
    "    def parOpt(nIter, pop, algo, nIsland, topo, nEvolves):\n",
    "      nGenIterPar = int(nIter/nEvolves)\n",
    "      genFit = np.zeros( (nGenIterPar,2), float )\n",
    "      archi = pg.archipelago(t=topo)\n",
    "\n",
    "      for i in range(nIsland):\n",
    "        algo.set_seed(np.random.randint(0,10000))\n",
    "        archi.push_back( pg.island(algo=algo, pop=pop) )    \n",
    "      for i in range(nGenIterPar):\n",
    "        archi.evolve(nEvolves)\n",
    "        archi.wait()\n",
    "        minF = np.min(archi.get_champions_f())\n",
    "        genFit[i, 0] = i*nGen*nEvolves\n",
    "        genFit[i, 1] = minF\n",
    "      return genFit    \n",
    "    ```\n",
    "* Die Funktion führt eine parallele Optimierung auf `nIsland` Inseln durch\n",
    "* Das Argument `topo` entspricht der [Topologie](https://esa.github.io/pygmo2/topology.html)\n",
    "* Das Argument `nEvolves` ist das Migrationsintervall\n",
    "* Der Rückgabewert ist gleich wie beim seriellen Fall und entspricht damit dem in jedem Iterationsschritt besten Fitnesswert\n",
    "\n",
    "<!--\n",
    "def parOpt(nIter, pop, algo, nIsland, topo, nEvolves):\n",
    "  nGenIterPar = int(nIter/nEvolves)\n",
    "  genFit = np.zeros( (nGenIterPar,2), float )\n",
    "  archi = pg.archipelago(t=topo)\n",
    "\n",
    "  for i in range(nIsland):\n",
    "    #algo.set_seed(np.random.randint(0,10000))\n",
    "    archi.push_back( pg.island(algo=algo, pop=pop) )    \n",
    "  for i in range(nGenIterPar):\n",
    "    archi.evolve(nEvolves)\n",
    "    archi.wait()\n",
    "    minF = np.min(archi.get_champions_f())\n",
    "    genFit[i, 0] = i*nGen*nEvolves\n",
    "    genFit[i, 1] = minF\n",
    "  return genFit\n",
    "-->"
   ]
  },
  {
   "cell_type": "code",
   "execution_count": null,
   "metadata": {
    "scrolled": false
   },
   "outputs": [],
   "source": []
  },
  {
   "cell_type": "markdown",
   "metadata": {},
   "source": [
    "* Führen Sie die parallele Optimierung jeweils 6 Mal auf 2, 3 und 4 Inseln durch\n",
    "* Testen Sie für jede Inselanzahl ein Migrationsintervall von 1, 3 und 5\n",
    "* Verwenden Sie als Topologie entweder [diese](https://esa.github.io/pygmo2/topologies.html#pygmo.fully_connected) oder [diese](https://esa.github.io/pygmo2/topologies.html#pygmo.ring)\n",
    "* Die Gesamtzahl der Iterationen, die Startpopulation und der Algorithmus soll gleich wie bei der seriellen Optimierung sein\n",
    "* Vervollständigen Sie dazu folgenden Quellcode:\n",
    "    ```python\n",
    "    nIslandVec = [2,2,2,2,2,2,3,3,3,3,3,3,4,4,4,4,4,4]\n",
    "    for nIsland in nIslandVec:\n",
    "      col = ['r', 'y', 'g']\n",
    "      mark = [0, \".\" ,1]\n",
    "      j = 0\n",
    "      for nEvolves in [1,3,5]:        \n",
    "        genFit = parOpt([...])\n",
    "        print( \"nIsland = %2d / nEvolves = %2d / minF = %8.4e\" % (nIsland, nEvolves, genFit[-1,1]) )   \n",
    "        plt.figure(2)\n",
    "        plt.loglog(nIsland, genFit[-1,1]/meanFit, col[j], marker=mark[j])\n",
    "        j = j+1\n",
    "    ```\n",
    "    \n",
    "<!--\n",
    "nIslandVec = [2,2,2,2,2,2,3,3,3,3,3,3,4,4,4,4,4,4]\n",
    "for nIsland in nIslandVec:\n",
    "  col = ['r', 'y', 'g']\n",
    "  mark = [0, \".\" ,1]\n",
    "  j = 0\n",
    "  for nEvolves in [1,3,5]:        \n",
    "    genFit = parOpt(nGenIter, pop_i, pg.algorithm( pg.de(gen=nGen) ), nIsland, pg.topology(pg.ring()), nEvolves)\n",
    "    print( \"nIsland = %2d / nEvolves = %2d / minF = %8.4e\" % (nIsland, nEvolves, genFit[-1,1]) )   \n",
    "    plt.figure(2)\n",
    "    plt.loglog(nIsland, genFit[-1,1]/meanFit, col[j], marker=mark[j])\n",
    "    j = j+1\n",
    "-->"
   ]
  },
  {
   "cell_type": "code",
   "execution_count": null,
   "metadata": {
    "scrolled": false
   },
   "outputs": [],
   "source": []
  },
  {
   "cell_type": "markdown",
   "metadata": {},
   "source": [
    "__Skalierung der Parallelisierung__"
   ]
  },
  {
   "cell_type": "markdown",
   "metadata": {},
   "source": [
    "* Plotten Sie in Abbildung 2 zusätzlich die \"ideale\" Skalierung (siehe [Folie 18](https://ilias3.uni-stuttgart.de/goto_Uni_Stuttgart_file_2539386_download.html))\n",
    "\n",
    "<!--\n",
    "plt.loglog([1,5], np.mean(gMinSerVec/meanFit) * np.array([1., 1./5.]), 'k--')\n",
    "-->"
   ]
  },
  {
   "cell_type": "code",
   "execution_count": null,
   "metadata": {
    "scrolled": true
   },
   "outputs": [],
   "source": []
  },
  {
   "cell_type": "markdown",
   "metadata": {},
   "source": [
    "* Führen Sie erneut eine serielle Optimierung durch\n",
    "* Ändern Sie die Anzahl der Iterationen auf `2*nGenIter`, `3*nGenIter` und `4*nGenIter`\n",
    "* Führen Sie für jede neue Anzahl die Optimierung jeweils 6 Mal durch\n",
    "* Plotten Sie die Ergebnisse in die Abbildung 2\n",
    "\n",
    "<!--\n",
    "for nPseudoIsl in nIslandVec:\n",
    "  genFit = serOpt(nPseudoIsl*nGenIter, pop_i, pg.algorithm(pg.de(gen=nGen)))\n",
    "  print( \"nPseudoIsl = %5d / minF = %8.4e\" % (nPseudoIsl, genFit[-1,1]) )\n",
    "  plt.figure(2)\n",
    "  plt.semilogy( nPseudoIsl, genFit[-1,1]/meanFit, 'bx' )\n",
    "-->"
   ]
  },
  {
   "cell_type": "code",
   "execution_count": null,
   "metadata": {},
   "outputs": [],
   "source": []
  },
  {
   "cell_type": "markdown",
   "metadata": {},
   "source": [
    "__Beobachtungen__"
   ]
  },
  {
   "cell_type": "markdown",
   "metadata": {},
   "source": [
    "* Warum sind die Ergebnisse zwischen dem \"langen\" seriellen und dem parallelen Lauf nicht gleich?\n",
    "* Bis zu welcher Anzahl von Inseln würden Sie empfehlen parallel zu optimieren?\n",
    "* Warum unterscheiden sich die parallelen Läufe auf einer jeweiligen Inselanzahl im Endergebnis?"
   ]
  }
 ],
 "metadata": {
  "kernelspec": {
   "display_name": "Python 3",
   "language": "python",
   "name": "python3"
  },
  "language_info": {
   "codemirror_mode": {
    "name": "ipython",
    "version": 3
   },
   "file_extension": ".py",
   "mimetype": "text/x-python",
   "name": "python",
   "nbconvert_exporter": "python",
   "pygments_lexer": "ipython3",
   "version": "3.7.3"
  }
 },
 "nbformat": 4,
 "nbformat_minor": 5
}
