{
 "cells": [
  {
   "cell_type": "markdown",
   "metadata": {},
   "source": [
    "Quelle: [Gauss Elimination](https://stackoverflow.com/questions/31957096/gaussian-elimination-with-pivoting-in-python)\n",
    "\n",
    "*   Löst eine Matrix\n",
    "*   sehr einfaches Verfahren\n",
    "\n",
    "Funktion: linearsolver\n",
    "*   in: Systemmatrix $\\underline{\\underline{A}}$, rechte Seite $\\underline{b}$\n",
    "*   out: $\\underline{x}$\n",
    "\n",
    "Python Infos: [Link](https://medium.com/@lokeshsharma596/is-python-call-by-value-or-call-by-reference-2dd7db74dbd0)"
   ]
  },
  {
   "cell_type": "code",
   "execution_count": 1,
   "metadata": {},
   "outputs": [],
   "source": [
    "def linearsolver(A,b):\n",
    "    n = len(A)\n",
    "    M = A\n",
    "    \n",
    "    i = 0\n",
    "    for x in M:\n",
    "        x.append(b[i])\n",
    "        i += 1\n",
    "\n",
    "    for k in range(n):\n",
    "        for i in range(k,n):\n",
    "            if abs(M[i][k]) > abs(M[k][k]):\n",
    "                M[k], M[i] = M[i],M[k]\n",
    "            else:\n",
    "                pass\n",
    "\n",
    "        for j in range(k+1,n):\n",
    "            q = float(M[j][k]) / M[k][k]\n",
    "            for m in range(k, n+1):\n",
    "                M[j][m] -=  q * M[k][m]\n",
    "\n",
    "    x = [0 for i in range(n)]\n",
    "\n",
    "    x[n-1] =float(M[n-1][n])/M[n-1][n-1]\n",
    "    for i in range (n-1,-1,-1):\n",
    "        z = 0\n",
    "        for j in range(i+1,n):\n",
    "            z = z  + float(M[i][j])*x[j]\n",
    "        x[i] = float(M[i][n] - z)/M[i][i]\n",
    "    print(x)"
   ]
  },
  {
   "cell_type": "markdown",
   "metadata": {},
   "source": [
    "*    Diskretisieren der Gleichung \n",
    "\\begin{equation}\n",
    "\\int (\\rho \\Phi \\underline{v}) \\cdot d\\underline{S} - \\int (\\Gamma \\nabla \\Phi$) \\cdot d\\underline{S} = 0\n",
    "\\end{equation}\n",
    "     mit der FVM. \n",
    "\n",
    "*    Verwendung von zentralen Differenzen\n",
    "*    Dirichlet Randbedingung links $\\phi=1$\n",
    "*    Neumann Randbedingung rechts $\\frac{\\partial \\Phi}{\\partial \\underline{n}}$"
   ]
  },
  {
   "cell_type": "code",
   "execution_count": 2,
   "metadata": {},
   "outputs": [],
   "source": [
    "A = [[1.55, -0.45, 0, 0, 0], \n",
    "     [-0.55, 1., -0.45, 0, 0], \n",
    "     [0, -0.55, 1., -0.45, 0],\n",
    "     [0, 0, -0.55, 1., -0.45],\n",
    "     [0, 0, 0, -0.55, 0.55]\n",
    "    ]\n",
    "b = [1.1, 0, 0, 0, 0]"
   ]
  },
  {
   "cell_type": "markdown",
   "metadata": {},
   "source": [
    "Lösen des LGS $\\underline{\\underline{A}} \\cdot \\underline{x} = \\underline{b}$"
   ]
  },
  {
   "cell_type": "code",
   "execution_count": 3,
   "metadata": {},
   "outputs": [
    {
     "name": "stdout",
     "output_type": "stream",
     "text": [
      "[1.0000000000000002, 1.0000000000000007, 1.000000000000001, 1.0000000000000013, 1.0000000000000013]\n"
     ]
    }
   ],
   "source": [
    "linearsolver(A,b)"
   ]
  },
  {
   "cell_type": "markdown",
   "metadata": {},
   "source": [
    "Definition der Klasse `matrix`"
   ]
  },
  {
   "cell_type": "code",
   "execution_count": 4,
   "metadata": {},
   "outputs": [],
   "source": [
    "class matrix:\n",
    "    import copy\n",
    "    import numpy\n",
    "    \n",
    "    # constructor\n",
    "    def __init__(self, A, b):\n",
    "        self.A_ = self.copy.deepcopy(A)\n",
    "        self.b_ = self.copy.deepcopy(b)\n",
    "        self.x_ = []\n",
    "    #solve\n",
    "    def solve(self):\n",
    "        n = len(self.A_)\n",
    "        M = self.copy.deepcopy(self.A_)\n",
    "\n",
    "        i = 0\n",
    "        for x in M:\n",
    "            x.append(self.b_[i])\n",
    "            i += 1\n",
    "\n",
    "        for k in range(n):\n",
    "            for i in range(k,n):\n",
    "                if abs(M[i][k]) > abs(M[k][k]):\n",
    "                    M[k], M[i] = M[i],M[k]\n",
    "                else:\n",
    "                    pass\n",
    "\n",
    "            for j in range(k+1,n):\n",
    "                q = float(M[j][k]) / M[k][k]\n",
    "                for m in range(k, n+1):\n",
    "                    M[j][m] -=  q * M[k][m]\n",
    "\n",
    "        x = [0 for i in range(n)]\n",
    "\n",
    "        x[n-1] =float(M[n-1][n])/M[n-1][n-1]\n",
    "        for i in range (n-1,-1,-1):\n",
    "            z = 0\n",
    "            for j in range(i+1,n):\n",
    "                z = z  + float(M[i][j])*x[j]\n",
    "            x[i] = float(M[i][n] - z)/M[i][i]\n",
    "        self.x_ = self.copy.deepcopy(x)\n",
    "    #eigenvalues\n",
    "    def eigenvalues(self):\n",
    "        return self.numpy.linalg.eig(self.A_)"
   ]
  },
  {
   "cell_type": "code",
   "execution_count": 5,
   "metadata": {},
   "outputs": [],
   "source": [
    "A = [[1.55, -0.45, 0, 0, 0], \n",
    "     [-0.55, 1., -0.45, 0, 0], \n",
    "     [0, -0.55, 1., -0.45, 0],\n",
    "     [0, 0, -0.55, 1., -0.45],\n",
    "     [0, 0, 0, -0.55, 0.55]\n",
    "    ]\n",
    "b = [1.1, 0, 0, 0, 0]"
   ]
  },
  {
   "cell_type": "code",
   "execution_count": 6,
   "metadata": {},
   "outputs": [],
   "source": [
    "M = matrix(A,b)"
   ]
  },
  {
   "cell_type": "code",
   "execution_count": 7,
   "metadata": {},
   "outputs": [
    {
     "data": {
      "text/plain": [
       "[[1.55, -0.45, 0, 0, 0],\n",
       " [-0.55, 1.0, -0.45, 0, 0],\n",
       " [0, -0.55, 1.0, -0.45, 0],\n",
       " [0, 0, -0.55, 1.0, -0.45],\n",
       " [0, 0, 0, -0.55, 0.55]]"
      ]
     },
     "execution_count": 7,
     "metadata": {},
     "output_type": "execute_result"
    }
   ],
   "source": [
    "M.A_"
   ]
  },
  {
   "cell_type": "code",
   "execution_count": 8,
   "metadata": {},
   "outputs": [],
   "source": [
    "M.solve()"
   ]
  },
  {
   "cell_type": "code",
   "execution_count": 9,
   "metadata": {},
   "outputs": [
    {
     "data": {
      "text/plain": [
       "[1.0000000000000002,\n",
       " 1.0000000000000007,\n",
       " 1.000000000000001,\n",
       " 1.0000000000000013,\n",
       " 1.0000000000000013]"
      ]
     },
     "execution_count": 9,
     "metadata": {},
     "output_type": "execute_result"
    }
   ],
   "source": [
    "M.x_"
   ]
  },
  {
   "cell_type": "code",
   "execution_count": 10,
   "metadata": {},
   "outputs": [
    {
     "data": {
      "text/plain": [
       "EigResult(eigenvalues=array([1.96841599, 1.60492284, 1.01993571, 0.43489371, 0.07183175]), eigenvectors=array([[-0.59699026, -0.43536047, -0.34207872, -0.21844312,  0.07643289],\n",
       "       [ 0.55508949,  0.05313607, -0.40294158, -0.5413051 ,  0.25106814],\n",
       "       [-0.46491753,  0.46067786,  0.43594715, -0.41278044,  0.4244342 ],\n",
       "       [ 0.32207634, -0.68422088,  0.47317101,  0.14322885,  0.56857526],\n",
       "       [-0.12488719,  0.35672892, -0.55378652,  0.68437504,  0.65398821]]))"
      ]
     },
     "execution_count": 10,
     "metadata": {},
     "output_type": "execute_result"
    }
   ],
   "source": [
    "M.eigenvalues()"
   ]
  },
  {
   "cell_type": "code",
   "execution_count": null,
   "metadata": {},
   "outputs": [],
   "source": []
  }
 ],
 "metadata": {
  "kernelspec": {
   "display_name": "Python 3 (ipykernel)",
   "language": "python",
   "name": "python3"
  },
  "language_info": {
   "codemirror_mode": {
    "name": "ipython",
    "version": 3
   },
   "file_extension": ".py",
   "mimetype": "text/x-python",
   "name": "python",
   "nbconvert_exporter": "python",
   "pygments_lexer": "ipython3",
   "version": "3.12.6"
  }
 },
 "nbformat": 4,
 "nbformat_minor": 4
}
